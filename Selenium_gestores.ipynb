{
  "cells": [
    {
      "cell_type": "markdown",
      "metadata": {
        "id": "view-in-github",
        "colab_type": "text"
      },
      "source": [
        "<a href=\"https://colab.research.google.com/github/diego042/CI_toolbox/blob/master/Selenium_gestores.ipynb\" target=\"_parent\"><img src=\"https://colab.research.google.com/assets/colab-badge.svg\" alt=\"Open In Colab\"/></a>"
      ]
    },
    {
      "cell_type": "markdown",
      "metadata": {
        "id": "2Fqrlz2ONWEf"
      },
      "source": [
        "# Web Scraping LinkedIn profiles with Scrapy and Selenium"
      ]
    },
    {
      "cell_type": "markdown",
      "metadata": {
        "id": "PgyNdNcfNWEj"
      },
      "source": [
        "https://medium.com/analytics-vidhya/web-scraping-with-scrapy-and-selenium-6dd4f3fbcd15"
      ]
    },
    {
      "cell_type": "markdown",
      "metadata": {
        "id": "-G4rzLtANWEk"
      },
      "source": [
        "### Let's start by importing required libraries"
      ]
    },
    {
      "cell_type": "code",
      "execution_count": null,
      "metadata": {
        "id": "-aMP_aUVNWEl"
      },
      "outputs": [],
      "source": [
        "import csv\n",
        "from parsel import Selector\n",
        "from time import sleep\n",
        "from selenium import webdriver\n",
        "from selenium.webdriver.common.keys import Keys"
      ]
    },
    {
      "cell_type": "markdown",
      "metadata": {
        "id": "9MbQUqkrNWEn"
      },
      "source": [
        "### Now, we need to set up a “writer” for storing our scraped elements into MS Excel."
      ]
    },
    {
      "cell_type": "code",
      "execution_count": null,
      "metadata": {
        "id": "kwx8OFnLNWEu"
      },
      "outputs": [],
      "source": [
        "#writer = csv.writer(open('output8.csv', 'w+', encoding='utf-8-sig', newline=''))\n",
        "#writer.writerow(['Name', 'Position', 'Company', 'Education', 'Location', 'URL'])\n",
        "with open('output.csv', 'w+', encoding='utf-8-sig', newline='') as file:\n",
        "    writer = csv.writer(file)\n",
        "    writer.writerow(['Name', 'Position', 'Company', #'Education',\n",
        "                     'Location', 'URL'])"
      ]
    },
    {
      "cell_type": "markdown",
      "metadata": {
        "id": "lyA5LM1qNWEv"
      },
      "source": [
        "### We need to be logged in our own LinkedIn account first to be able to scrape through other LinkedIn profiles. We do this by Selenium webdriver."
      ]
    },
    {
      "cell_type": "code",
      "execution_count": null,
      "metadata": {
        "id": "aO4Mtv3CNWEw"
      },
      "outputs": [],
      "source": [
        "driver = webdriver.Chrome('C://Users//diegomg//Documents//chromedriver')\n",
        "driver.get('https://www.linkedin.com/')\n",
        "\n",
        "username = driver.find_element_by_name(\"session_key\")\n",
        "username.send_keys('quimica.maciel@gmail.com')\n",
        "sleep(0.5)\n",
        "\n",
        "password = driver.find_element_by_name('session_password')\n",
        "password.send_keys('dakota32')\n",
        "sleep(0.5)\n",
        "\n",
        "sign_in_button = driver.find_element_by_class_name('sign-in-form__submit-button')\n",
        "sign_in_button.click()\n",
        "sleep(2)"
      ]
    },
    {
      "cell_type": "markdown",
      "metadata": {
        "id": "nS5Pc3dFNWEw"
      },
      "source": [
        "### The following code will help us extract the URLs of LinkedIn profiles we are after."
      ]
    },
    {
      "cell_type": "code",
      "execution_count": null,
      "metadata": {
        "id": "saTvKfF-NWEx",
        "outputId": "d4158448-3370-4b3d-ba8e-91ec2a94d8cd"
      },
      "outputs": [
        {
          "data": {
            "text/plain": [
              "'\\ndriver.get(\\'https://www.google.com/\\')\\nsearch_query = driver.find_element_by_name(\\'q\\')\\nsearch_query.send_keys(\\'site:linkedin.com/in AND \"boticario AND \"pesquisa\"\\')\\nsearch_query.send_keys(Keys.RETURN)\\nsleep(0.5)\\n\\nurls = driver.find_elements_by_xpath(\\'//*[@class = \"r\"]/a[@href]\\')\\nurls = [url.get_attribute(\\'href\\') for url in urls]\\n#urls = driver.find_elements_by_class_name(\\'iUh30\\')\\n#urls = [url.text for url in urls]\\n#urls = driver.find_elements_by_xpath(\"//div[@class=\\'g\\']//div[@class=\\'r\\']//a[not(@class)]\")\\n#urls = [url.get_attribute(\\'href\\') for url in urls]\\nsleep(0.5)\\n\\nurls\\n'"
            ]
          },
          "execution_count": 5,
          "metadata": {},
          "output_type": "execute_result"
        }
      ],
      "source": [
        "'''\n",
        "driver.get('https://www.google.com/')\n",
        "search_query = driver.find_element_by_name('q')\n",
        "search_query.send_keys('site:linkedin.com/in AND \"boticario AND \"pesquisa\"')\n",
        "search_query.send_keys(Keys.RETURN)\n",
        "sleep(0.5)\n",
        "\n",
        "urls = driver.find_elements_by_xpath('//*[@class = \"r\"]/a[@href]')\n",
        "urls = [url.get_attribute('href') for url in urls]\n",
        "#urls = driver.find_elements_by_class_name('iUh30')\n",
        "#urls = [url.text for url in urls]\n",
        "#urls = driver.find_elements_by_xpath(\"//div[@class='g']//div[@class='r']//a[not(@class)]\")\n",
        "#urls = [url.get_attribute('href') for url in urls]\n",
        "sleep(0.5)\n",
        "\n",
        "urls\n",
        "'''"
      ]
    },
    {
      "cell_type": "markdown",
      "metadata": {
        "id": "B2hi73WINWEz"
      },
      "source": [
        "### Create urls lists to scrap"
      ]
    },
    {
      "cell_type": "code",
      "execution_count": null,
      "metadata": {
        "id": "0BHw3K5RNWEz"
      },
      "outputs": [],
      "source": [
        "urls = [\"https://www.linkedin.com/in/veridianoandrade/\",\n",
        "\"https://www.linkedin.com/in/silvioalves/\",\n",
        "\"https://www.linkedin.com/in/patrick-decesaro-73b05523/\",\n",
        "\"https://www.linkedin.com/in/juniacarlaomaia/\",\n",
        "\"https://www.linkedin.com/in/deisymedunaval%C3%A9rio/\",\n",
        "\"https://www.linkedin.com/in/tatianepontarolodesouza/\",\n",
        "\"https://www.linkedin.com/in/cel%C3%BAsia-moreno-cardoso-bb97a0b0/\",\n",
        "\"https://www.linkedin.com/in/sergio-tonieto-326309b/\",\n",
        "\"https://www.linkedin.com/in/cicero-viana-79752215/\",\n",
        "\"https://www.linkedin.com/in/ricardo-nogueira-b646871a/\",\n",
        "\"https://www.linkedin.com/in/carmem-dalla-a72a55aa/\",\n",
        "\"https://www.linkedin.com/in/m%C3%B4nica-cerqueira-falc%C3%A3o-de-sousa-410b84193/\",\n",
        "\"https://www.linkedin.com/in/juarez-borges-neto-98544528/\",\n",
        "\"https://www.linkedin.com/in/renatoatanazio/\",\n",
        "\"https://www.linkedin.com/in/daniele-figueiredo-07b484b/\",\n",
        "\"https://www.linkedin.com/in/darcy-alberto-pierdon%C3%A1-jr/\",\n",
        "\"https://www.linkedin.com/in/cristiane-almeida-lazzoli-318ab114/\",\n",
        "\"https://www.linkedin.com/in/fabio-almeida-8b80b7b0/\",\n",
        "\"https://www.linkedin.com/in/bruno-da-silva-macedo-593a5249/\",\n",
        "\"https://www.linkedin.com/in/alexandre-brum-industrial/\",\n",
        "\"https://www.linkedin.com/in/bruno-afonso/\",\n",
        "\"https://www.linkedin.com/in/estela-cunha/\",\n",
        "\"https://www.linkedin.com/in/walteralbuquerque/\",\n",
        "\"https://www.linkedin.com/in/felipe-martinez-s-schorr/\",\n",
        "\"https://www.linkedin.com/in/eloiza-helena-kitaka-39666427/\",\n",
        "\"https://www.linkedin.com/in/eline-damasceno-481590b5/\",\n",
        "\"https://www.linkedin.com/in/emiliano-barreto-4a6b624/\",\n",
        "\"https://www.linkedin.com/in/shana-karin-darolt-bolsi-aa7b6936/\",\n",
        "\"https://www.linkedin.com/in/julianaduin/\",\n",
        "\"https://www.linkedin.com/in/sabrina-l-olsen-9b9863183/\",\n",
        "\"https://www.linkedin.com/in/renato-viaro-b921242b/\",\n",
        "\"https://www.linkedin.com/in/denise-dias-a3766529/\",\n",
        "\"https://www.linkedin.com/in/nivaldo-alves-a0434a32/\",\n",
        "\"https://www.linkedin.com/in/luisfranzon/\",\n",
        "\"https://www.linkedin.com/in/thiago-pereira-pmp-55a20822/\",\n",
        "\"https://www.linkedin.com/in/anacelline/\",\n",
        "\"https://www.linkedin.com/in/mariannaduha/\",\n",
        "\"https://www.linkedin.com/in/suzane-drongek-54244151/\",\n",
        "\"https://www.linkedin.com/in/luizsetti-medico/\",\n",
        "\"https://www.linkedin.com/in/silmara-oliveira-da-rosa-5644a149/\",\n",
        "\"https://www.linkedin.com/in/juliana-madureira-17620b4b/\",\n",
        "\"https://www.linkedin.com/in/felipe-quintella-5ba80831/\",\n",
        "\"https://www.linkedin.com/in/allan-hagemeyer/\",\n",
        "\"https://www.linkedin.com/in/alesrocha1/\",\n",
        "\"https://www.linkedin.com/in/dalmo-viguini-23151021/\",\n",
        "\"https://www.linkedin.com/in/priscila-penharbel/\",\n",
        "\"https://www.linkedin.com/in/juliana-perna-de-mendon%C3%A7a-006b45a/\",\n",
        "\"https://www.linkedin.com/in/luciana-piva-7630b88/\",\n",
        "\"https://www.linkedin.com/in/sheila-czernichovski/\",\n",
        "\"https://www.linkedin.com/in/milene-kreuzburg-da-silva-55b342187/\",\n",
        "\"https://www.linkedin.com/in/lia-azevedo/\",\n",
        "\"https://www.linkedin.com/in/eduardo-javarotto-26544327/\",\n",
        "\"https://www.linkedin.com/in/leandro-de-souza-vitorino/\",\n",
        "\"https://www.linkedin.com/in/carla-freitas-goncalves/\",\n",
        "\"https://www.linkedin.com/in/vanessahikichi/\",\n",
        "\"https://www.linkedin.com/in/yuri-silva-de-miranda-45a6664a/\",\n",
        "\"https://www.linkedin.com/in/brunoparolin/\",\n",
        "\"https://www.linkedin.com/in/analuizacoordenadordevendas/\",\n",
        "\"https://www.linkedin.com/in/andr%C3%A9-castro-3750b12a/\",\n",
        "\"https://www.linkedin.com/in/leopoldo-giovanetti-1053b114/\",\n",
        "\"https://www.linkedin.com/in/rodrigo-rodrigues-igl%C3%A9zias-96421b38/\",\n",
        "\"https://www.linkedin.com/in/geraldo-bonnevialle-braga-ara%C3%BAjo/\",\n",
        "\"https://www.linkedin.com/in/deniscarlosf/\",\n",
        "\"https://www.linkedin.com/in/celia-renata-73b017141/\",\n",
        "\"https://www.linkedin.com/in/daniele-da-silva-rodrigues-ab648512a/\",\n",
        "\"https://www.linkedin.com/in/janaina-oliveira-955044186/\",\n",
        "\"https://www.linkedin.com/in/claudiaferro01/\",\n",
        "\"https://www.linkedin.com/in/crisley-silva-09628970/\",\n",
        "\"https://www.linkedin.com/in/gabriel-brazao-5a984321/\",\n",
        "\"https://www.linkedin.com/in/celma-soares-da-rocha-48493925/\",\n",
        "\"https://www.linkedin.com/in/guilherme-r-ba28251/\",\n",
        "\"https://www.linkedin.com/in/analuciabmarques/\",\n",
        "\"https://www.linkedin.com/in/eduardo-de-freitas-pereira-612331a1/\",\n",
        "\"https://www.linkedin.com/in/danilorodriguesbr/\",\n",
        "\"https://www.linkedin.com/in/mariana-scalzo-30985211/\",\n",
        "\"https://www.linkedin.com/in/migowski/\",\n",
        "\"https://www.linkedin.com/in/alice-reis-brasil-29390685/\",\n",
        "\"https://www.linkedin.com/in/bruno-guedes-6aa10828/\",\n",
        "\"https://www.linkedin.com/in/cristiane-correa-77b8b7108/\",\n",
        "\"https://www.linkedin.com/in/robertcnunes/\",\n",
        "\"https://www.linkedin.com/in/ricardo-nobre-33053b11/\",\n",
        "\"https://www.linkedin.com/in/andressabremer/\",\n",
        "\"https://www.linkedin.com/in/armando-zurzolo-neto-ba962a21/\",\n",
        "\"https://www.linkedin.com/in/giovana-biasi-locatelli-7bb2983a/\",\n",
        "\"https://www.linkedin.com/in/camyla-almeida-5a88b21ba/\",\n",
        "\"https://www.linkedin.com/in/jonathanvieira/\",\n",
        "\"https://www.linkedin.com/in/daniella-rodrigues-batalini-brand%C3%A3o-a5701b3a/\",\n",
        "\"https://www.linkedin.com/in/patriciaelias/\",\n",
        "\"https://www.linkedin.com/in/natalia-vicentini-a8501b171/\",\n",
        "\"https://www.linkedin.com/in/m%C3%A1rcia-tosta-20430814/\",\n",
        "\"https://www.linkedin.com/in/jilvan-santos-51536992/\",\n",
        "\"https://www.linkedin.com/in/angel-alvarez-ab60272/\",\n",
        "\"https://www.linkedin.com/in/nicolassimone/\",\n",
        "\"https://www.linkedin.com/in/eduardohintz/\",\n",
        "\"https://www.linkedin.com/in/cesarcastro0711/\",\n",
        "\"https://www.linkedin.com/in/andr%C3%A9-campestrini-73831025/\",\n",
        "\"https://www.linkedin.com/in/sabrina-funchal-95114525/\",\n",
        "\"https://www.linkedin.com/in/danielle-lorenzetti-16147932/\",\n",
        "\"https://www.linkedin.com/in/helio-omoto-bb973213/\",\n",
        "\"https://www.linkedin.com/in/joaopauloseabra/\",\n",
        "\"https://www.linkedin.com/in/isabelle-alves-50924861/\",\n",
        "\"https://www.linkedin.com/in/ivaneti-mota-80473115/\",\n",
        "\"https://www.linkedin.com/in/allana-braga/\",\n",
        "\"https://www.linkedin.com/in/fabiana-alonso-prehs-23399015/\",\n",
        "\"https://www.linkedin.com/in/luciana-halmenschlager-44a58249/\",\n",
        "\"https://www.linkedin.com/in/flaviobaraf/\",\n",
        "\"https://www.linkedin.com/in/rhebekagrippa/\",\n",
        "\"https://www.linkedin.com/in/leandro-aparecido-da-costa-bacic-fernandes-a9579622/\",\n",
        "\"https://www.linkedin.com/in/wcaldas/\",\n",
        "\"https://www.linkedin.com/in/everton-wilhelm-2527292a/\",\n",
        "\"https://www.linkedin.com/in/patricia-casadei-antoneli-90013623/\",\n",
        "\"https://www.linkedin.com/in/evandro-garcia/\",\n",
        "\"https://www.linkedin.com/in/daniel-polli-838a079/\",\n",
        "\"https://www.linkedin.com/in/alvaro-garcia-2739037/\",\n",
        "\"https://www.linkedin.com/in/carla-anzolin-b7a7bb10b/\",\n",
        "\"https://www.linkedin.com/in/andrea-iogolia-43262a86/\",\n",
        "\"https://www.linkedin.com/in/rodrigo-borges-de-almeida-14069b30/\",\n",
        "\"https://www.linkedin.com/in/ana-paula-grimm-64ba72b7/\",\n",
        "\"https://www.linkedin.com/in/patricia-rifiski/\",\n",
        "\"https://www.linkedin.com/in/luis-felipe-ticianeli-ferreira-b239913b/\",\n",
        "\"https://www.linkedin.com/in/marcela-franklin-1aaa6334/\",\n",
        "\"https://www.linkedin.com/in/osvaldo-bugelli-neto-21a26519/\",\n",
        "\"https://www.linkedin.com/in/marcus-vinicius-santos-aa7987112/\",\n",
        "\"https://www.linkedin.com/in/sandro-cerca-64358543/\",\n",
        "\"https://www.linkedin.com/in/abtittoto/\",\n",
        "\"https://www.linkedin.com/in/victorfrange/\",\n",
        "\"https://www.linkedin.com/in/gustavo-baldini-lichtenecker-msc-31ab5221/\",\n",
        "\"https://www.linkedin.com/in/cibelebrunhara/\",\n",
        "\"https://www.linkedin.com/in/jairpereira/\",\n",
        "\"https://www.linkedin.com/in/vanusa-isidro-449813139/\",\n",
        "\"https://www.linkedin.com/in/rita-padovani-9019504/\",\n",
        "\"https://www.linkedin.com/in/natashasanchezdepaula/\",\n",
        "\"https://www.linkedin.com/in/irece-a-rodrigues-a4271325/\",\n",
        "\"https://www.linkedin.com/in/maria-cl%C3%A1udia-or%C3%A9fice-4416a72a/\",\n",
        "\"https://www.linkedin.com/in/viniciusrelva/\",\n",
        "\"https://www.linkedin.com/in/camila-gomes-2217221b/\",\n",
        "\"https://www.linkedin.com/in/murilo-aguila-8b18ab24/\",\n",
        "\"https://www.linkedin.com/in/carlos-eduardo-fernandes-544968137/\",\n",
        "\"https://www.linkedin.com/in/val%C3%A9ria-montes/\",\n",
        "\"https://www.linkedin.com/in/guilherme-cardoso-a6139727/\",\n",
        "\"https://www.linkedin.com/in/mariana-linari-rodrigues-69125250/\",\n",
        "\"https://www.linkedin.com/in/tib%C3%A9rio-cavalcante-20a37ab4/\",\n",
        "\"https://www.linkedin.com/in/mariana-brito-26bbba24/\",\n",
        "\"https://www.linkedin.com/in/raphael-hanoh-386a2b12/\",\n",
        "\"https://www.linkedin.com/in/%C3%A9rica-c-7ba69599/\",\n",
        "\"https://www.linkedin.com/in/ana-carolina-m-cocenzo/\",\n",
        "\"https://www.linkedin.com/in/janaina-brasil-rodovalho/\",\n",
        "\"https://www.linkedin.com/in/anafuregatti/\",\n",
        "\"https://www.linkedin.com/in/brunocorcinirezende/\",\n",
        "\"https://www.linkedin.com/in/mariana-hiromi/\",\n",
        "\"https://www.linkedin.com/in/lucimaira-regina-ferreira-da-silva-17021b10a/\",\n",
        "\"https://www.linkedin.com/in/marceloptavares/\",\n",
        "\"https://www.linkedin.com/in/naziara-sabino/\",\n",
        "\"https://www.linkedin.com/in/ronaldo-nogueira-b71265b1/\",\n",
        "\"https://www.linkedin.com/in/fernandomarchiori/\",\n",
        "\"https://www.linkedin.com/in/patricia-dias-ribeiro-aa79aa124/\",\n",
        "\"https://www.linkedin.com/in/samymesnik/\",\n",
        "\"https://www.linkedin.com/in/brunocorcinirezende/\",\n",
        "\"https://www.linkedin.com/in/marcelo-pina-2a359421/\",\n",
        "\"https://www.linkedin.com/in/cbmachado/\",\n",
        "\"https://www.linkedin.com/in/jose-vicente-goncalves-de-abreu-65354bab/\",\n",
        "\"https://www.linkedin.com/in/sergio-paim/\",\n",
        "\"https://www.linkedin.com/in/adalberto-fiorini/\",\n",
        "\"https://www.linkedin.com/in/thiago-l-castilho-08955938/\",\n",
        "\"https://www.linkedin.com/in/tatiana-kawano-1652ab11/\",\n",
        "\"https://www.linkedin.com/in/suelen-b-1265807b/\",\n",
        "\"https://www.linkedin.com/in/cinthia-cesario-748794162/\"]"
      ]
    },
    {
      "cell_type": "code",
      "execution_count": null,
      "metadata": {
        "id": "1Jh6lxljNWE2",
        "outputId": "671659fa-538f-4042-928e-d236790f5805"
      },
      "outputs": [
        {
          "data": {
            "text/plain": [
              "['https://www.linkedin.com/in/veridianoandrade/',\n",
              " 'https://www.linkedin.com/in/silvioalves/',\n",
              " 'https://www.linkedin.com/in/patrick-decesaro-73b05523/',\n",
              " 'https://www.linkedin.com/in/juniacarlaomaia/',\n",
              " 'https://www.linkedin.com/in/deisymedunaval%C3%A9rio/',\n",
              " 'https://www.linkedin.com/in/tatianepontarolodesouza/',\n",
              " 'https://www.linkedin.com/in/cel%C3%BAsia-moreno-cardoso-bb97a0b0/',\n",
              " 'https://www.linkedin.com/in/sergio-tonieto-326309b/',\n",
              " 'https://www.linkedin.com/in/cicero-viana-79752215/',\n",
              " 'https://www.linkedin.com/in/ricardo-nogueira-b646871a/',\n",
              " 'https://www.linkedin.com/in/carmem-dalla-a72a55aa/',\n",
              " 'https://www.linkedin.com/in/m%C3%B4nica-cerqueira-falc%C3%A3o-de-sousa-410b84193/',\n",
              " 'https://www.linkedin.com/in/juarez-borges-neto-98544528/',\n",
              " 'https://www.linkedin.com/in/renatoatanazio/',\n",
              " 'https://www.linkedin.com/in/daniele-figueiredo-07b484b/',\n",
              " 'https://www.linkedin.com/in/darcy-alberto-pierdon%C3%A1-jr/',\n",
              " 'https://www.linkedin.com/in/cristiane-almeida-lazzoli-318ab114/',\n",
              " 'https://www.linkedin.com/in/fabio-almeida-8b80b7b0/',\n",
              " 'https://www.linkedin.com/in/bruno-da-silva-macedo-593a5249/',\n",
              " 'https://www.linkedin.com/in/alexandre-brum-industrial/',\n",
              " 'https://www.linkedin.com/in/bruno-afonso/',\n",
              " 'https://www.linkedin.com/in/estela-cunha/',\n",
              " 'https://www.linkedin.com/in/walteralbuquerque/',\n",
              " 'https://www.linkedin.com/in/felipe-martinez-s-schorr/',\n",
              " 'https://www.linkedin.com/in/eloiza-helena-kitaka-39666427/',\n",
              " 'https://www.linkedin.com/in/eline-damasceno-481590b5/',\n",
              " 'https://www.linkedin.com/in/emiliano-barreto-4a6b624/',\n",
              " 'https://www.linkedin.com/in/shana-karin-darolt-bolsi-aa7b6936/',\n",
              " 'https://www.linkedin.com/in/julianaduin/',\n",
              " 'https://www.linkedin.com/in/sabrina-l-olsen-9b9863183/',\n",
              " 'https://www.linkedin.com/in/renato-viaro-b921242b/',\n",
              " 'https://www.linkedin.com/in/denise-dias-a3766529/',\n",
              " 'https://www.linkedin.com/in/nivaldo-alves-a0434a32/',\n",
              " 'https://www.linkedin.com/in/luisfranzon/',\n",
              " 'https://www.linkedin.com/in/thiago-pereira-pmp-55a20822/',\n",
              " 'https://www.linkedin.com/in/anacelline/',\n",
              " 'https://www.linkedin.com/in/mariannaduha/',\n",
              " 'https://www.linkedin.com/in/suzane-drongek-54244151/',\n",
              " 'https://www.linkedin.com/in/luizsetti-medico/',\n",
              " 'https://www.linkedin.com/in/silmara-oliveira-da-rosa-5644a149/',\n",
              " 'https://www.linkedin.com/in/juliana-madureira-17620b4b/',\n",
              " 'https://www.linkedin.com/in/felipe-quintella-5ba80831/',\n",
              " 'https://www.linkedin.com/in/allan-hagemeyer/',\n",
              " 'https://www.linkedin.com/in/alesrocha1/',\n",
              " 'https://www.linkedin.com/in/dalmo-viguini-23151021/',\n",
              " 'https://www.linkedin.com/in/priscila-penharbel/',\n",
              " 'https://www.linkedin.com/in/juliana-perna-de-mendon%C3%A7a-006b45a/',\n",
              " 'https://www.linkedin.com/in/luciana-piva-7630b88/',\n",
              " 'https://www.linkedin.com/in/sheila-czernichovski/',\n",
              " 'https://www.linkedin.com/in/milene-kreuzburg-da-silva-55b342187/',\n",
              " 'https://www.linkedin.com/in/lia-azevedo/',\n",
              " 'https://www.linkedin.com/in/eduardo-javarotto-26544327/',\n",
              " 'https://www.linkedin.com/in/leandro-de-souza-vitorino/',\n",
              " 'https://www.linkedin.com/in/carla-freitas-goncalves/',\n",
              " 'https://www.linkedin.com/in/vanessahikichi/',\n",
              " 'https://www.linkedin.com/in/yuri-silva-de-miranda-45a6664a/',\n",
              " 'https://www.linkedin.com/in/brunoparolin/',\n",
              " 'https://www.linkedin.com/in/analuizacoordenadordevendas/',\n",
              " 'https://www.linkedin.com/in/andr%C3%A9-castro-3750b12a/',\n",
              " 'https://www.linkedin.com/in/leopoldo-giovanetti-1053b114/',\n",
              " 'https://www.linkedin.com/in/rodrigo-rodrigues-igl%C3%A9zias-96421b38/',\n",
              " 'https://www.linkedin.com/in/geraldo-bonnevialle-braga-ara%C3%BAjo/',\n",
              " 'https://www.linkedin.com/in/deniscarlosf/',\n",
              " 'https://www.linkedin.com/in/celia-renata-73b017141/',\n",
              " 'https://www.linkedin.com/in/daniele-da-silva-rodrigues-ab648512a/',\n",
              " 'https://www.linkedin.com/in/janaina-oliveira-955044186/',\n",
              " 'https://www.linkedin.com/in/claudiaferro01/',\n",
              " 'https://www.linkedin.com/in/crisley-silva-09628970/',\n",
              " 'https://www.linkedin.com/in/gabriel-brazao-5a984321/',\n",
              " 'https://www.linkedin.com/in/celma-soares-da-rocha-48493925/',\n",
              " 'https://www.linkedin.com/in/guilherme-r-ba28251/',\n",
              " 'https://www.linkedin.com/in/analuciabmarques/',\n",
              " 'https://www.linkedin.com/in/eduardo-de-freitas-pereira-612331a1/',\n",
              " 'https://www.linkedin.com/in/danilorodriguesbr/',\n",
              " 'https://www.linkedin.com/in/mariana-scalzo-30985211/',\n",
              " 'https://www.linkedin.com/in/migowski/',\n",
              " 'https://www.linkedin.com/in/alice-reis-brasil-29390685/',\n",
              " 'https://www.linkedin.com/in/bruno-guedes-6aa10828/',\n",
              " 'https://www.linkedin.com/in/cristiane-correa-77b8b7108/',\n",
              " 'https://www.linkedin.com/in/robertcnunes/',\n",
              " 'https://www.linkedin.com/in/ricardo-nobre-33053b11/',\n",
              " 'https://www.linkedin.com/in/andressabremer/',\n",
              " 'https://www.linkedin.com/in/armando-zurzolo-neto-ba962a21/',\n",
              " 'https://www.linkedin.com/in/giovana-biasi-locatelli-7bb2983a/',\n",
              " 'https://www.linkedin.com/in/camyla-almeida-5a88b21ba/',\n",
              " 'https://www.linkedin.com/in/jonathanvieira/',\n",
              " 'https://www.linkedin.com/in/daniella-rodrigues-batalini-brand%C3%A3o-a5701b3a/',\n",
              " 'https://www.linkedin.com/in/patriciaelias/',\n",
              " 'https://www.linkedin.com/in/natalia-vicentini-a8501b171/',\n",
              " 'https://www.linkedin.com/in/m%C3%A1rcia-tosta-20430814/',\n",
              " 'https://www.linkedin.com/in/jilvan-santos-51536992/',\n",
              " 'https://www.linkedin.com/in/angel-alvarez-ab60272/',\n",
              " 'https://www.linkedin.com/in/nicolassimone/',\n",
              " 'https://www.linkedin.com/in/eduardohintz/',\n",
              " 'https://www.linkedin.com/in/cesarcastro0711/',\n",
              " 'https://www.linkedin.com/in/andr%C3%A9-campestrini-73831025/',\n",
              " 'https://www.linkedin.com/in/sabrina-funchal-95114525/',\n",
              " 'https://www.linkedin.com/in/danielle-lorenzetti-16147932/',\n",
              " 'https://www.linkedin.com/in/helio-omoto-bb973213/',\n",
              " 'https://www.linkedin.com/in/joaopauloseabra/',\n",
              " 'https://www.linkedin.com/in/isabelle-alves-50924861/',\n",
              " 'https://www.linkedin.com/in/ivaneti-mota-80473115/',\n",
              " 'https://www.linkedin.com/in/allana-braga/',\n",
              " 'https://www.linkedin.com/in/fabiana-alonso-prehs-23399015/',\n",
              " 'https://www.linkedin.com/in/luciana-halmenschlager-44a58249/',\n",
              " 'https://www.linkedin.com/in/flaviobaraf/',\n",
              " 'https://www.linkedin.com/in/rhebekagrippa/',\n",
              " 'https://www.linkedin.com/in/leandro-aparecido-da-costa-bacic-fernandes-a9579622/',\n",
              " 'https://www.linkedin.com/in/wcaldas/',\n",
              " 'https://www.linkedin.com/in/everton-wilhelm-2527292a/',\n",
              " 'https://www.linkedin.com/in/patricia-casadei-antoneli-90013623/',\n",
              " 'https://www.linkedin.com/in/evandro-garcia/',\n",
              " 'https://www.linkedin.com/in/daniel-polli-838a079/',\n",
              " 'https://www.linkedin.com/in/alvaro-garcia-2739037/',\n",
              " 'https://www.linkedin.com/in/carla-anzolin-b7a7bb10b/',\n",
              " 'https://www.linkedin.com/in/andrea-iogolia-43262a86/',\n",
              " 'https://www.linkedin.com/in/rodrigo-borges-de-almeida-14069b30/',\n",
              " 'https://www.linkedin.com/in/ana-paula-grimm-64ba72b7/',\n",
              " 'https://www.linkedin.com/in/patricia-rifiski/',\n",
              " 'https://www.linkedin.com/in/luis-felipe-ticianeli-ferreira-b239913b/',\n",
              " 'https://www.linkedin.com/in/marcela-franklin-1aaa6334/',\n",
              " 'https://www.linkedin.com/in/osvaldo-bugelli-neto-21a26519/',\n",
              " 'https://www.linkedin.com/in/marcus-vinicius-santos-aa7987112/',\n",
              " 'https://www.linkedin.com/in/sandro-cerca-64358543/',\n",
              " 'https://www.linkedin.com/in/abtittoto/',\n",
              " 'https://www.linkedin.com/in/victorfrange/',\n",
              " 'https://www.linkedin.com/in/gustavo-baldini-lichtenecker-msc-31ab5221/',\n",
              " 'https://www.linkedin.com/in/cibelebrunhara/',\n",
              " 'https://www.linkedin.com/in/jairpereira/',\n",
              " 'https://www.linkedin.com/in/vanusa-isidro-449813139/',\n",
              " 'https://www.linkedin.com/in/rita-padovani-9019504/',\n",
              " 'https://www.linkedin.com/in/natashasanchezdepaula/',\n",
              " 'https://www.linkedin.com/in/irece-a-rodrigues-a4271325/',\n",
              " 'https://www.linkedin.com/in/maria-cl%C3%A1udia-or%C3%A9fice-4416a72a/',\n",
              " 'https://www.linkedin.com/in/viniciusrelva/',\n",
              " 'https://www.linkedin.com/in/camila-gomes-2217221b/',\n",
              " 'https://www.linkedin.com/in/murilo-aguila-8b18ab24/',\n",
              " 'https://www.linkedin.com/in/carlos-eduardo-fernandes-544968137/',\n",
              " 'https://www.linkedin.com/in/val%C3%A9ria-montes/',\n",
              " 'https://www.linkedin.com/in/guilherme-cardoso-a6139727/',\n",
              " 'https://www.linkedin.com/in/mariana-linari-rodrigues-69125250/',\n",
              " 'https://www.linkedin.com/in/tib%C3%A9rio-cavalcante-20a37ab4/',\n",
              " 'https://www.linkedin.com/in/mariana-brito-26bbba24/',\n",
              " 'https://www.linkedin.com/in/raphael-hanoh-386a2b12/',\n",
              " 'https://www.linkedin.com/in/%C3%A9rica-c-7ba69599/',\n",
              " 'https://www.linkedin.com/in/ana-carolina-m-cocenzo/',\n",
              " 'https://www.linkedin.com/in/janaina-brasil-rodovalho/',\n",
              " 'https://www.linkedin.com/in/anafuregatti/',\n",
              " 'https://www.linkedin.com/in/brunocorcinirezende/',\n",
              " 'https://www.linkedin.com/in/mariana-hiromi/',\n",
              " 'https://www.linkedin.com/in/lucimaira-regina-ferreira-da-silva-17021b10a/',\n",
              " 'https://www.linkedin.com/in/marceloptavares/',\n",
              " 'https://www.linkedin.com/in/naziara-sabino/',\n",
              " 'https://www.linkedin.com/in/ronaldo-nogueira-b71265b1/',\n",
              " 'https://www.linkedin.com/in/fernandomarchiori/',\n",
              " 'https://www.linkedin.com/in/patricia-dias-ribeiro-aa79aa124/',\n",
              " 'https://www.linkedin.com/in/samymesnik/',\n",
              " 'https://www.linkedin.com/in/brunocorcinirezende/',\n",
              " 'https://www.linkedin.com/in/marcelo-pina-2a359421/',\n",
              " 'https://www.linkedin.com/in/cbmachado/',\n",
              " 'https://www.linkedin.com/in/jose-vicente-goncalves-de-abreu-65354bab/',\n",
              " 'https://www.linkedin.com/in/sergio-paim/',\n",
              " 'https://www.linkedin.com/in/adalberto-fiorini/',\n",
              " 'https://www.linkedin.com/in/thiago-l-castilho-08955938/',\n",
              " 'https://www.linkedin.com/in/tatiana-kawano-1652ab11/',\n",
              " 'https://www.linkedin.com/in/suelen-b-1265807b/',\n",
              " 'https://www.linkedin.com/in/cinthia-cesario-748794162/']"
            ]
          },
          "execution_count": 7,
          "metadata": {},
          "output_type": "execute_result"
        }
      ],
      "source": [
        "urls"
      ]
    },
    {
      "cell_type": "code",
      "execution_count": null,
      "metadata": {
        "id": "FaqRDKDoNWE3"
      },
      "outputs": [],
      "source": [
        "for url in urls:\n",
        "    driver.get(url)\n",
        "    sleep(2)\n",
        "\n",
        "    sel = Selector(text = driver.page_source)\n",
        "\n",
        "    name = sel.xpath('//*[@class = \"inline t-24 t-black t-normal break-words\"]/text()').extract_first().split()\n",
        "    name = ' '.join(name)\n",
        "\n",
        "    position = sel.xpath('//*[@class = \"mt1 t-18 t-black t-normal break-words\"]/text()').extract_first().split()\n",
        "    position = ' '.join(position)\n",
        "\n",
        "    experience = sel.xpath('//*[@class = \"pv-top-card-v3--experience-list\"]')\n",
        "    \n",
        "    '''\n",
        "    company = experience.xpath('./li[@data-control-name = \"position_see_more\"]//span/text()').extract_first()\n",
        "    company = ''.join(company.split()) if company else None\n",
        "    '''\n",
        "    \n",
        "    try:\n",
        "        company = ' '.join(sel.xpath('//*[@class = \"text-align-left ml2 t-14 t-black t-bold full-width lt-line-clamp lt-line-clamp--multi-line ember-view\"]/text()').extract_first().split())\n",
        "        company = ' '.join(company.split()) if company else None\n",
        "    except: \n",
        "        company = ' '\n",
        "    \n",
        "        '''\n",
        "    company = ' '.join(sel.xpath('//*[@class = \"text-align-left ml2 t-14 t-black t-bold full-width lt-line-clamp lt-line-clamp--multi-line ember-view\"]/text()').extract_first().split())\n",
        "    company = ' '.join(company.split()) if company else None\n",
        "    \n",
        "    \n",
        "    education = experience.xpath('.//li[@data-control-name = \"education_see_more\"]//span/text()').extract_first()\n",
        "    education = ' '.join(education.split()) if education else None\n",
        "    '''\n",
        "\n",
        "    location = ' '.join(sel.xpath('//*[@class = \"t-16 t-black t-normal inline-block\"]/text()').extract_first().split())\n",
        "\n",
        "    url = driver.current_url\n",
        "    \n",
        "    with open(r'output.csv', 'a', encoding='utf-8-sig', newline='') as f:\n",
        "        writer = csv.writer(f)\n",
        "        writer.writerow([name, position, company, #education,\n",
        "                         location, url])"
      ]
    },
    {
      "cell_type": "code",
      "execution_count": null,
      "metadata": {
        "id": "OwPlX2WNNWE3"
      },
      "outputs": [],
      "source": [
        "driver.quit()"
      ]
    },
    {
      "cell_type": "code",
      "execution_count": null,
      "metadata": {
        "id": "-kNqOP8YNWE5"
      },
      "outputs": [],
      "source": [
        "name"
      ]
    },
    {
      "cell_type": "code",
      "execution_count": null,
      "metadata": {
        "id": "9VdXIBnENWE5"
      },
      "outputs": [],
      "source": [
        "urls = [\"https://www.linkedin.com/in/diegomacielgeronimo/\", \"https://www.linkedin.com/in/andrey-mark/\", \"https://www.linkedin.com/in/cristiane-almeida-lazzoli-318ab114/\",\"https://www.linkedin.com/in/diegomacielgeronimo/\"]"
      ]
    },
    {
      "cell_type": "code",
      "execution_count": null,
      "metadata": {
        "id": "g56Y1oFqNWE5"
      },
      "outputs": [],
      "source": [
        "company = ' '.join(sel.xpath('//*[@class = \"text-align-left ml2 t-14 t-black t-bold full-width lt-line-clamp lt-line-clamp--multi-line ember-view\"]/text()').extract_first().split())\n"
      ]
    },
    {
      "cell_type": "code",
      "execution_count": null,
      "metadata": {
        "id": "vcxm4oFDNWE6"
      },
      "outputs": [],
      "source": []
    },
    {
      "cell_type": "code",
      "execution_count": null,
      "metadata": {
        "id": "cssIGJt4NWE6"
      },
      "outputs": [],
      "source": []
    },
    {
      "cell_type": "code",
      "execution_count": null,
      "metadata": {
        "id": "bqjxv72sNWE6"
      },
      "outputs": [],
      "source": []
    }
  ],
  "metadata": {
    "kernelspec": {
      "display_name": "Python 3",
      "language": "python",
      "name": "python3"
    },
    "language_info": {
      "codemirror_mode": {
        "name": "ipython",
        "version": 3
      },
      "file_extension": ".py",
      "mimetype": "text/x-python",
      "name": "python",
      "nbconvert_exporter": "python",
      "pygments_lexer": "ipython3",
      "version": "3.6.10"
    },
    "colab": {
      "provenance": [],
      "include_colab_link": true
    }
  },
  "nbformat": 4,
  "nbformat_minor": 0
}